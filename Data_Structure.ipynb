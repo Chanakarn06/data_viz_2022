{
  "nbformat": 4,
  "nbformat_minor": 0,
  "metadata": {
    "colab": {
      "name": "Data_Structure.ipynb",
      "provenance": [],
      "authorship_tag": "ABX9TyPYlNclxjKtmxBGEnFG8fsl",
      "include_colab_link": true
    },
    "kernelspec": {
      "name": "python3",
      "display_name": "Python 3"
    },
    "language_info": {
      "name": "python"
    }
  },
  "cells": [
    {
      "cell_type": "markdown",
      "metadata": {
        "id": "view-in-github",
        "colab_type": "text"
      },
      "source": [
        "<a href=\"https://colab.research.google.com/github/Chanakarn06/data_viz_2022/blob/main/Data_Structure.ipynb\" target=\"_parent\"><img src=\"https://colab.research.google.com/assets/colab-badge.svg\" alt=\"Open In Colab\"/></a>"
      ]
    },
    {
      "cell_type": "markdown",
      "source": [
        "# Data Structure (โครงสร้างข้อมูล)\n",
        "การเก็บข้อมูลหลายๆตัวไว้ด้วยกันอย่างเป็นระเบียบ"
      ],
      "metadata": {
        "id": "a7M2pLo_2bGH"
      }
    },
    {
      "cell_type": "markdown",
      "source": [
        "## `list()`\n",
        "\n",
        "- เก็บอะไรก็ได้\n",
        "- ลำดับในการเก็บ มีความสำคัญ"
      ],
      "metadata": {
        "id": "2CBdG_m12enw"
      }
    },
    {
      "cell_type": "code",
      "execution_count": 1,
      "metadata": {
        "id": "PQ60ppxd2T9t"
      },
      "outputs": [],
      "source": [
        "list_a = [1,2,3,4,5,6]  #[ ] square brackets\n"
      ]
    },
    {
      "cell_type": "code",
      "source": [
        "list_a\n"
      ],
      "metadata": {
        "colab": {
          "base_uri": "https://localhost:8080/"
        },
        "id": "0CjdcYRt2hQ_",
        "outputId": "0e8e0c62-2c48-4e5e-9c85-84f9faaf21f7"
      },
      "execution_count": 2,
      "outputs": [
        {
          "output_type": "execute_result",
          "data": {
            "text/plain": [
              "[1, 2, 3, 4, 5, 6]"
            ]
          },
          "metadata": {},
          "execution_count": 2
        }
      ]
    },
    {
      "cell_type": "code",
      "source": [
        "list_b = ['ab',2,3.14,list_a]"
      ],
      "metadata": {
        "id": "ABWT7iJv2i-f"
      },
      "execution_count": 3,
      "outputs": []
    },
    {
      "cell_type": "code",
      "source": [
        "list_b"
      ],
      "metadata": {
        "colab": {
          "base_uri": "https://localhost:8080/"
        },
        "id": "Xcsg8-V02k5h",
        "outputId": "72c43e62-c4dc-416c-b7e3-35d51feac594"
      },
      "execution_count": 4,
      "outputs": [
        {
          "output_type": "execute_result",
          "data": {
            "text/plain": [
              "['ab', 2, 3.14, [1, 2, 3, 4, 5, 6]]"
            ]
          },
          "metadata": {},
          "execution_count": 4
        }
      ]
    },
    {
      "cell_type": "markdown",
      "source": [
        "### indexing การชี้สมาชิกใน list ด้วย เลขลำดับของ list"
      ],
      "metadata": {
        "id": "1k2MIgwS2piC"
      }
    },
    {
      "cell_type": "code",
      "source": [
        "list_a[3]"
      ],
      "metadata": {
        "colab": {
          "base_uri": "https://localhost:8080/"
        },
        "id": "dyy3ltNK2mYL",
        "outputId": "b7b81069-6ae2-45b6-b62e-20a500821453"
      },
      "execution_count": 5,
      "outputs": [
        {
          "output_type": "execute_result",
          "data": {
            "text/plain": [
              "4"
            ]
          },
          "metadata": {},
          "execution_count": 5
        }
      ]
    },
    {
      "cell_type": "code",
      "source": [
        "list_b[3]"
      ],
      "metadata": {
        "colab": {
          "base_uri": "https://localhost:8080/"
        },
        "id": "SNxrA6W_5GXx",
        "outputId": "fada14fe-258e-44e6-c47b-b69d3611e577"
      },
      "execution_count": 6,
      "outputs": [
        {
          "output_type": "execute_result",
          "data": {
            "text/plain": [
              "[1, 2, 3, 4, 5, 6]"
            ]
          },
          "metadata": {},
          "execution_count": 6
        }
      ]
    },
    {
      "cell_type": "code",
      "source": [
        "\n",
        "list_b[3][4]"
      ],
      "metadata": {
        "colab": {
          "base_uri": "https://localhost:8080/"
        },
        "id": "P0kFdPGv5Iq9",
        "outputId": "390b89b0-fa44-4875-fa36-877baa32f5ca"
      },
      "execution_count": 7,
      "outputs": [
        {
          "output_type": "execute_result",
          "data": {
            "text/plain": [
              "5"
            ]
          },
          "metadata": {},
          "execution_count": 7
        }
      ]
    },
    {
      "cell_type": "code",
      "source": [
        "list_a[6]"
      ],
      "metadata": {
        "colab": {
          "base_uri": "https://localhost:8080/",
          "height": 166
        },
        "id": "nu82D2Hq5KUD",
        "outputId": "9c794415-cf06-42c4-fa4c-ea49930a2238"
      },
      "execution_count": 8,
      "outputs": [
        {
          "output_type": "error",
          "ename": "IndexError",
          "evalue": "ignored",
          "traceback": [
            "\u001b[0;31m---------------------------------------------------------------------------\u001b[0m",
            "\u001b[0;31mIndexError\u001b[0m                                Traceback (most recent call last)",
            "\u001b[0;32m<ipython-input-8-d6b61775e813>\u001b[0m in \u001b[0;36m<module>\u001b[0;34m()\u001b[0m\n\u001b[0;32m----> 1\u001b[0;31m \u001b[0mlist_a\u001b[0m\u001b[0;34m[\u001b[0m\u001b[0;36m6\u001b[0m\u001b[0;34m]\u001b[0m\u001b[0;34m\u001b[0m\u001b[0;34m\u001b[0m\u001b[0m\n\u001b[0m",
            "\u001b[0;31mIndexError\u001b[0m: list index out of range"
          ]
        }
      ]
    },
    {
      "cell_type": "code",
      "source": [
        "\n",
        "list_a[-1] #index -1 คือตัวสุดท้ายของ list"
      ],
      "metadata": {
        "colab": {
          "base_uri": "https://localhost:8080/"
        },
        "id": "lZzW6X4L5Ltp",
        "outputId": "dff3f1e2-dd88-4ab3-875b-2b0110243427"
      },
      "execution_count": 9,
      "outputs": [
        {
          "output_type": "execute_result",
          "data": {
            "text/plain": [
              "6"
            ]
          },
          "metadata": {},
          "execution_count": 9
        }
      ]
    },
    {
      "cell_type": "code",
      "source": [
        "list_a[-4]"
      ],
      "metadata": {
        "colab": {
          "base_uri": "https://localhost:8080/"
        },
        "id": "teLlwi5T5NhQ",
        "outputId": "fa27e536-a2ab-4bbf-838f-b9c72d3d09e6"
      },
      "execution_count": 10,
      "outputs": [
        {
          "output_type": "execute_result",
          "data": {
            "text/plain": [
              "3"
            ]
          },
          "metadata": {},
          "execution_count": 10
        }
      ]
    },
    {
      "cell_type": "markdown",
      "source": [
        "### การสร้าง `list()`"
      ],
      "metadata": {
        "id": "pkZue7pj5QrH"
      }
    },
    {
      "cell_type": "code",
      "source": [
        "list_x1 = [] #แบบที่ 1\n",
        "list_x2 = list() #แบบที่ 2"
      ],
      "metadata": {
        "id": "2YdE2uN25O5s"
      },
      "execution_count": 11,
      "outputs": []
    },
    {
      "cell_type": "code",
      "source": [
        "\n",
        "print(list_x1)\n",
        "print(list_x2)"
      ],
      "metadata": {
        "colab": {
          "base_uri": "https://localhost:8080/"
        },
        "id": "KK8YES1t5S2m",
        "outputId": "009f68d4-8759-4afd-e042-950cd95c3018"
      },
      "execution_count": 12,
      "outputs": [
        {
          "output_type": "stream",
          "name": "stdout",
          "text": [
            "[]\n",
            "[]\n"
          ]
        }
      ]
    },
    {
      "cell_type": "markdown",
      "source": [
        "### เพิ่มสมาชิกเข้าไปใน list ด้วย `append()`"
      ],
      "metadata": {
        "id": "iQGvbqwk5kSj"
      }
    },
    {
      "cell_type": "code",
      "source": [
        "list_x1.append(2)"
      ],
      "metadata": {
        "id": "SOho_IIr5h01"
      },
      "execution_count": 13,
      "outputs": []
    },
    {
      "cell_type": "code",
      "source": [
        "list_x1"
      ],
      "metadata": {
        "colab": {
          "base_uri": "https://localhost:8080/"
        },
        "id": "2RYXFk196HuX",
        "outputId": "c13fe3b9-4750-42f3-95c3-9eab59d7dc26"
      },
      "execution_count": 14,
      "outputs": [
        {
          "output_type": "execute_result",
          "data": {
            "text/plain": [
              "[2]"
            ]
          },
          "metadata": {},
          "execution_count": 14
        }
      ]
    },
    {
      "cell_type": "code",
      "source": [
        "list_x1.append(4)\n",
        "print(list_x1)\n"
      ],
      "metadata": {
        "colab": {
          "base_uri": "https://localhost:8080/"
        },
        "id": "pL5ZSerx6JUO",
        "outputId": "d4c09601-1f52-43b5-dd9c-c6281e4a22d5"
      },
      "execution_count": 15,
      "outputs": [
        {
          "output_type": "stream",
          "name": "stdout",
          "text": [
            "[2, 4]\n"
          ]
        }
      ]
    },
    {
      "cell_type": "code",
      "source": [
        "\n",
        "list_x1[0]"
      ],
      "metadata": {
        "colab": {
          "base_uri": "https://localhost:8080/"
        },
        "id": "z9x8Vnw76LcL",
        "outputId": "831e2bed-bd13-4afb-d78c-06b3fb14f277"
      },
      "execution_count": 16,
      "outputs": [
        {
          "output_type": "execute_result",
          "data": {
            "text/plain": [
              "2"
            ]
          },
          "metadata": {},
          "execution_count": 16
        }
      ]
    },
    {
      "cell_type": "code",
      "source": [
        "list_x1[-1]"
      ],
      "metadata": {
        "colab": {
          "base_uri": "https://localhost:8080/"
        },
        "id": "T1K4P1uh6NNY",
        "outputId": "0df83fa3-7c8e-4856-ea0c-482021e7da54"
      },
      "execution_count": 17,
      "outputs": [
        {
          "output_type": "execute_result",
          "data": {
            "text/plain": [
              "4"
            ]
          },
          "metadata": {},
          "execution_count": 17
        }
      ]
    },
    {
      "cell_type": "code",
      "source": [
        "list_x2\n",
        "\n"
      ],
      "metadata": {
        "colab": {
          "base_uri": "https://localhost:8080/"
        },
        "id": "bD5nYYBE6Oyq",
        "outputId": "0dece92e-0957-45e9-b874-2bb036090a48"
      },
      "execution_count": 18,
      "outputs": [
        {
          "output_type": "execute_result",
          "data": {
            "text/plain": [
              "[]"
            ]
          },
          "metadata": {},
          "execution_count": 18
        }
      ]
    },
    {
      "cell_type": "code",
      "source": [
        "list_x2.append('ha')\n"
      ],
      "metadata": {
        "id": "yoSn3ONY6QWC"
      },
      "execution_count": 19,
      "outputs": []
    },
    {
      "cell_type": "code",
      "source": [
        "list_x2"
      ],
      "metadata": {
        "colab": {
          "base_uri": "https://localhost:8080/"
        },
        "id": "DXQHin7o6SVi",
        "outputId": "992eabf4-a3fb-4dcb-d0c0-4bec2c1eb062"
      },
      "execution_count": 20,
      "outputs": [
        {
          "output_type": "execute_result",
          "data": {
            "text/plain": [
              "['ha']"
            ]
          },
          "metadata": {},
          "execution_count": 20
        }
      ]
    },
    {
      "cell_type": "markdown",
      "source": [
        "### ลบสมาชิกจาก list"
      ],
      "metadata": {
        "id": "pTSAzJGA6WpT"
      }
    },
    {
      "cell_type": "code",
      "source": [
        "list_x1.append('ha')"
      ],
      "metadata": {
        "id": "rWB7QXeO6UDw"
      },
      "execution_count": 21,
      "outputs": []
    },
    {
      "cell_type": "code",
      "source": [
        "list_x1"
      ],
      "metadata": {
        "colab": {
          "base_uri": "https://localhost:8080/"
        },
        "id": "tvuWNzYj6YfS",
        "outputId": "fdeb3d07-3b97-4395-8627-94f076a615b4"
      },
      "execution_count": 22,
      "outputs": [
        {
          "output_type": "execute_result",
          "data": {
            "text/plain": [
              "[2, 4, 'ha']"
            ]
          },
          "metadata": {},
          "execution_count": 22
        }
      ]
    },
    {
      "cell_type": "code",
      "source": [
        "\n",
        "list_x1.pop()"
      ],
      "metadata": {
        "colab": {
          "base_uri": "https://localhost:8080/",
          "height": 34
        },
        "id": "WlpyInbh6Z5G",
        "outputId": "858ccbc4-5327-4921-bf57-59598f23b90a"
      },
      "execution_count": 23,
      "outputs": [
        {
          "output_type": "execute_result",
          "data": {
            "application/vnd.google.colaboratory.intrinsic+json": {
              "type": "string"
            },
            "text/plain": [
              "'ha'"
            ]
          },
          "metadata": {},
          "execution_count": 23
        }
      ]
    },
    {
      "cell_type": "code",
      "source": [
        "\n",
        "list_x1"
      ],
      "metadata": {
        "colab": {
          "base_uri": "https://localhost:8080/"
        },
        "id": "vFC5_TED6bU4",
        "outputId": "b54313fa-7e6a-4124-8cb2-fa9346e682a7"
      },
      "execution_count": 24,
      "outputs": [
        {
          "output_type": "execute_result",
          "data": {
            "text/plain": [
              "[2, 4]"
            ]
          },
          "metadata": {},
          "execution_count": 24
        }
      ]
    },
    {
      "cell_type": "code",
      "source": [
        "list_x1.pop()\n",
        "print(list_x1)"
      ],
      "metadata": {
        "colab": {
          "base_uri": "https://localhost:8080/"
        },
        "id": "H_r7PUlS6dWV",
        "outputId": "aefe00ec-5973-497b-9e89-44d5f2c864b9"
      },
      "execution_count": 25,
      "outputs": [
        {
          "output_type": "stream",
          "name": "stdout",
          "text": [
            "[2]\n"
          ]
        }
      ]
    },
    {
      "cell_type": "markdown",
      "source": [
        "### `len()` ตรวจสอบจำนวนสมาชิกของ list"
      ],
      "metadata": {
        "id": "R3JJbr106hsg"
      }
    },
    {
      "cell_type": "code",
      "source": [
        "print(list_b)\n",
        "print(len(list_b))"
      ],
      "metadata": {
        "colab": {
          "base_uri": "https://localhost:8080/"
        },
        "id": "cH_Degcf6ezg",
        "outputId": "84deac14-291d-4581-bbe0-270a364f31eb"
      },
      "execution_count": 26,
      "outputs": [
        {
          "output_type": "stream",
          "name": "stdout",
          "text": [
            "['ab', 2, 3.14, [1, 2, 3, 4, 5, 6]]\n",
            "4\n"
          ]
        }
      ]
    },
    {
      "cell_type": "code",
      "source": [
        "\n",
        "len(list_a)"
      ],
      "metadata": {
        "colab": {
          "base_uri": "https://localhost:8080/"
        },
        "id": "h7Y6lDyx6kLk",
        "outputId": "3993c0af-6613-4592-df2d-3220a67e9eab"
      },
      "execution_count": 27,
      "outputs": [
        {
          "output_type": "execute_result",
          "data": {
            "text/plain": [
              "6"
            ]
          },
          "metadata": {},
          "execution_count": 27
        }
      ]
    },
    {
      "cell_type": "markdown",
      "source": [
        "### String is a list of characters"
      ],
      "metadata": {
        "id": "SujyVZnR6pWW"
      }
    },
    {
      "cell_type": "code",
      "source": [
        "st_stat = 'Department of Statistics, Faculty of Science'"
      ],
      "metadata": {
        "id": "kERvNx2u6lzb"
      },
      "execution_count": 28,
      "outputs": []
    },
    {
      "cell_type": "code",
      "source": [
        "st_stat[10]"
      ],
      "metadata": {
        "colab": {
          "base_uri": "https://localhost:8080/",
          "height": 34
        },
        "id": "oU66B1X86tQO",
        "outputId": "ef5412ab-1226-4444-8b02-96551362f888"
      },
      "execution_count": 29,
      "outputs": [
        {
          "output_type": "execute_result",
          "data": {
            "application/vnd.google.colaboratory.intrinsic+json": {
              "type": "string"
            },
            "text/plain": [
              "' '"
            ]
          },
          "metadata": {},
          "execution_count": 29
        }
      ]
    },
    {
      "cell_type": "code",
      "source": [
        "\n",
        "len(st_stat)"
      ],
      "metadata": {
        "colab": {
          "base_uri": "https://localhost:8080/"
        },
        "id": "pLHffRGR6tjL",
        "outputId": "64bb610a-4170-43fd-b75b-d3012085ba1e"
      },
      "execution_count": 30,
      "outputs": [
        {
          "output_type": "execute_result",
          "data": {
            "text/plain": [
              "44"
            ]
          },
          "metadata": {},
          "execution_count": 30
        }
      ]
    },
    {
      "cell_type": "markdown",
      "source": [
        "### List Slicing `:`"
      ],
      "metadata": {
        "id": "a0yR2Dfz6w3-"
      }
    },
    {
      "cell_type": "markdown",
      "source": [
        "   `list[จุดเริ่มต้น (ทึบ):จุดสุดท้าย (โปร่ง)]`\n",
        "\n",
        "   `list[จุดเริ่มต้น (ทึบ):จุดสุดท้าย (โปร่ง):step]`"
      ],
      "metadata": {
        "id": "tFVBJf8-6zGw"
      }
    },
    {
      "cell_type": "markdown",
      "source": [
        "![Unknown.gif](data:image/gif;base64,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)"
      ],
      "metadata": {
        "id": "W3bRhv4J65QU"
      }
    },
    {
      "cell_type": "code",
      "source": [
        "list_a"
      ],
      "metadata": {
        "colab": {
          "base_uri": "https://localhost:8080/"
        },
        "id": "N1F7RUB06u-x",
        "outputId": "b61f59d6-39cf-472e-8a20-ba7a0e3020e2"
      },
      "execution_count": 31,
      "outputs": [
        {
          "output_type": "execute_result",
          "data": {
            "text/plain": [
              "[1, 2, 3, 4, 5, 6]"
            ]
          },
          "metadata": {},
          "execution_count": 31
        }
      ]
    },
    {
      "cell_type": "code",
      "source": [
        "list_a[2]"
      ],
      "metadata": {
        "colab": {
          "base_uri": "https://localhost:8080/"
        },
        "id": "NLp3nkyB68JB",
        "outputId": "6328850b-2f32-481a-da9d-da739bc5a04e"
      },
      "execution_count": 32,
      "outputs": [
        {
          "output_type": "execute_result",
          "data": {
            "text/plain": [
              "3"
            ]
          },
          "metadata": {},
          "execution_count": 32
        }
      ]
    },
    {
      "cell_type": "markdown",
      "source": [
        "#### `:` colon"
      ],
      "metadata": {
        "id": "pM_-IvR06_dz"
      }
    },
    {
      "cell_type": "code",
      "source": [
        "list_a[-3:]  \n"
      ],
      "metadata": {
        "colab": {
          "base_uri": "https://localhost:8080/"
        },
        "id": "Aj_g-4BV69kW",
        "outputId": "f952a1ec-fce1-4906-91ab-6d003c0c49ec"
      },
      "execution_count": 33,
      "outputs": [
        {
          "output_type": "execute_result",
          "data": {
            "text/plain": [
              "[4, 5, 6]"
            ]
          },
          "metadata": {},
          "execution_count": 33
        }
      ]
    },
    {
      "cell_type": "code",
      "source": [
        "list_a[:4] "
      ],
      "metadata": {
        "colab": {
          "base_uri": "https://localhost:8080/"
        },
        "id": "kPmo83zH7Dnu",
        "outputId": "ce7ee66c-fb0e-4d66-812e-1380df277adf"
      },
      "execution_count": 34,
      "outputs": [
        {
          "output_type": "execute_result",
          "data": {
            "text/plain": [
              "[1, 2, 3, 4]"
            ]
          },
          "metadata": {},
          "execution_count": 34
        }
      ]
    },
    {
      "cell_type": "code",
      "source": [
        "list_a[1:4]"
      ],
      "metadata": {
        "colab": {
          "base_uri": "https://localhost:8080/"
        },
        "id": "SvFb_kNw7D6w",
        "outputId": "d697d53f-f673-4eda-98b4-ab676325037c"
      },
      "execution_count": 35,
      "outputs": [
        {
          "output_type": "execute_result",
          "data": {
            "text/plain": [
              "[2, 3, 4]"
            ]
          },
          "metadata": {},
          "execution_count": 35
        }
      ]
    },
    {
      "cell_type": "code",
      "source": [
        "list_a[:]\n",
        "\n"
      ],
      "metadata": {
        "colab": {
          "base_uri": "https://localhost:8080/"
        },
        "id": "H2PC-rC47FuN",
        "outputId": "1ce7d6a9-48c6-46c5-e871-cee68e4f95ef"
      },
      "execution_count": 36,
      "outputs": [
        {
          "output_type": "execute_result",
          "data": {
            "text/plain": [
              "[1, 2, 3, 4, 5, 6]"
            ]
          },
          "metadata": {},
          "execution_count": 36
        }
      ]
    },
    {
      "cell_type": "markdown",
      "source": [
        "#### step"
      ],
      "metadata": {
        "id": "19ge0R9v7Jch"
      }
    },
    {
      "cell_type": "code",
      "source": [
        "list_c = [1,2,3,4,5,6,7,8,9,10,11,12,13]"
      ],
      "metadata": {
        "id": "4LlGfXff7HfD"
      },
      "execution_count": 37,
      "outputs": []
    },
    {
      "cell_type": "code",
      "source": [
        "list_c[:10:]"
      ],
      "metadata": {
        "colab": {
          "base_uri": "https://localhost:8080/"
        },
        "id": "RpHku1fl7Lk4",
        "outputId": "1d9c198d-f2e7-456d-ea1d-f4f09227c841"
      },
      "execution_count": 38,
      "outputs": [
        {
          "output_type": "execute_result",
          "data": {
            "text/plain": [
              "[1, 2, 3, 4, 5, 6, 7, 8, 9, 10]"
            ]
          },
          "metadata": {},
          "execution_count": 38
        }
      ]
    },
    {
      "cell_type": "code",
      "source": [
        "\n",
        "list_c[:10:2]"
      ],
      "metadata": {
        "colab": {
          "base_uri": "https://localhost:8080/"
        },
        "id": "p2lXkRv87NAL",
        "outputId": "fbb5ce49-ba9c-464c-b6c2-abfb958dcf0d"
      },
      "execution_count": 39,
      "outputs": [
        {
          "output_type": "execute_result",
          "data": {
            "text/plain": [
              "[1, 3, 5, 7, 9]"
            ]
          },
          "metadata": {},
          "execution_count": 39
        }
      ]
    },
    {
      "cell_type": "code",
      "source": [
        "\n",
        "list_c[::-1]"
      ],
      "metadata": {
        "colab": {
          "base_uri": "https://localhost:8080/"
        },
        "id": "JZNlZhJ87Ofh",
        "outputId": "ae49c5a2-a49f-4085-be1d-c3cd0c019361"
      },
      "execution_count": 40,
      "outputs": [
        {
          "output_type": "execute_result",
          "data": {
            "text/plain": [
              "[13, 12, 11, 10, 9, 8, 7, 6, 5, 4, 3, 2, 1]"
            ]
          },
          "metadata": {},
          "execution_count": 40
        }
      ]
    },
    {
      "cell_type": "markdown",
      "source": [
        "### `range()`"
      ],
      "metadata": {
        "id": "dNVTn_Ko7SGJ"
      }
    },
    {
      "cell_type": "code",
      "source": [
        "range(21)\n"
      ],
      "metadata": {
        "colab": {
          "base_uri": "https://localhost:8080/"
        },
        "id": "5Zyzw1xY7QJl",
        "outputId": "e79ef93a-b2f0-4ff9-8d91-262679aa7198"
      },
      "execution_count": 41,
      "outputs": [
        {
          "output_type": "execute_result",
          "data": {
            "text/plain": [
              "range(0, 21)"
            ]
          },
          "metadata": {},
          "execution_count": 41
        }
      ]
    },
    {
      "cell_type": "code",
      "source": [
        "a = list(range(21))\n",
        "\n"
      ],
      "metadata": {
        "id": "HRJAniGf7UUH"
      },
      "execution_count": 42,
      "outputs": []
    },
    {
      "cell_type": "code",
      "source": [
        "\n",
        "a"
      ],
      "metadata": {
        "colab": {
          "base_uri": "https://localhost:8080/"
        },
        "id": "O1KiCmBz7Wjl",
        "outputId": "b17158f2-065f-4bea-9992-fd23d0ebad6d"
      },
      "execution_count": 43,
      "outputs": [
        {
          "output_type": "execute_result",
          "data": {
            "text/plain": [
              "[0, 1, 2, 3, 4, 5, 6, 7, 8, 9, 10, 11, 12, 13, 14, 15, 16, 17, 18, 19, 20]"
            ]
          },
          "metadata": {},
          "execution_count": 43
        }
      ]
    },
    {
      "cell_type": "code",
      "source": [
        "list(range(1,21))"
      ],
      "metadata": {
        "colab": {
          "base_uri": "https://localhost:8080/"
        },
        "id": "woYoT83D7Z0-",
        "outputId": "dc066d93-1fd4-4318-f731-6b3981279f61"
      },
      "execution_count": 44,
      "outputs": [
        {
          "output_type": "execute_result",
          "data": {
            "text/plain": [
              "[1, 2, 3, 4, 5, 6, 7, 8, 9, 10, 11, 12, 13, 14, 15, 16, 17, 18, 19, 20]"
            ]
          },
          "metadata": {},
          "execution_count": 44
        }
      ]
    },
    {
      "cell_type": "markdown",
      "source": [
        "HW2 คำนวณเวลาเป็นวินาทีของเวลาต่อไปนี้โดยใช้คำสั่ง split() ช่วย (print ออกมาให้สวยงาม)\n",
        "\n",
        "- 12:30:15\n",
        "- 13:41:07\n",
        "- 09:11:50\n",
        "- 21:30:15\n",
        "- 03:10:15"
      ],
      "metadata": {
        "id": "sbl8efvT7eNK"
      }
    },
    {
      "cell_type": "code",
      "source": [
        "#12:30:15\n",
        "\n",
        "HW1 = '12:30:15'\n",
        "ex1 = HW1.split(':')\n",
        "a1 = (int(ex1[0])*60*60) + (int(ex1[1])*60) + int(ex1[2])\n",
        "print(f'{HW1} แปลงเป็นวินาที ได้ {a1} วินาที')\n"
      ],
      "metadata": {
        "colab": {
          "base_uri": "https://localhost:8080/"
        },
        "id": "QKjZ1WAM7bve",
        "outputId": "6f88569d-084a-4107-a4a8-bf6244aeb75e"
      },
      "execution_count": 45,
      "outputs": [
        {
          "output_type": "stream",
          "name": "stdout",
          "text": [
            "12:30:15 แปลงเป็นวินาที ได้ 45015 วินาที\n"
          ]
        }
      ]
    },
    {
      "cell_type": "code",
      "source": [
        "#13:41:07\n",
        "\n",
        "HW2 = '13:41:07'\n",
        "ex2 = HW2.split(':')\n",
        "a2 = (int(ex2[0])*60*60) + (int(ex2[1])*60) + int(ex2[2])\n",
        "print(f'{HW2} แปลงเป็นวินาที ได้ {a2} วินาที')"
      ],
      "metadata": {
        "colab": {
          "base_uri": "https://localhost:8080/"
        },
        "id": "DMPLrhzB91FY",
        "outputId": "dfbd2636-ba8a-45ae-a45e-6a11a9a652ca"
      },
      "execution_count": 46,
      "outputs": [
        {
          "output_type": "stream",
          "name": "stdout",
          "text": [
            "13:41:07 แปลงเป็นวินาที ได้ 49267 วินาที\n"
          ]
        }
      ]
    },
    {
      "cell_type": "code",
      "source": [
        "\n",
        "#09:11:50\n",
        "\n",
        "HW3 = '09:11:50'\n",
        "ex3 = HW3.split(':')\n",
        "a3 = (int(ex3[0])*60*60) + (int(ex3[1])*60) + int(ex3[2])\n",
        "print(f'{HW3} แปลงเป็นวินาที ได้ {a3} วินาที')"
      ],
      "metadata": {
        "colab": {
          "base_uri": "https://localhost:8080/"
        },
        "id": "a9DyFfWf94y0",
        "outputId": "539e3a90-986c-4573-aee8-c7ac3aba1361"
      },
      "execution_count": 47,
      "outputs": [
        {
          "output_type": "stream",
          "name": "stdout",
          "text": [
            "09:11:50 แปลงเป็นวินาที ได้ 33110 วินาที\n"
          ]
        }
      ]
    },
    {
      "cell_type": "code",
      "source": [
        "#21:30:15\n",
        "\n",
        "HW4 = '21:30:15'\n",
        "ex4 = HW4.split(':')\n",
        "a4 = (int(ex4[0])*60*60) + (int(ex4[1])*60) + int(ex4[2])\n",
        "print(f'{HW4} แปลงเป็นวินาที ได้ {a4} วินาที')"
      ],
      "metadata": {
        "colab": {
          "base_uri": "https://localhost:8080/"
        },
        "id": "bg0nb_jO967f",
        "outputId": "cd58cc25-ad6a-4d70-cd96-2a7878f5a06b"
      },
      "execution_count": 48,
      "outputs": [
        {
          "output_type": "stream",
          "name": "stdout",
          "text": [
            "21:30:15 แปลงเป็นวินาที ได้ 77415 วินาที\n"
          ]
        }
      ]
    },
    {
      "cell_type": "code",
      "source": [
        "#03:10:15\n",
        "\n",
        "HW5 = '03:10:15'\n",
        "ex5 = HW5.split(':')\n",
        "a5 = (int(ex5[0])*60*60) + (int(ex5[1])*60) + int(ex5[2])\n",
        "print(f'{HW5} แปลงเป็นวินาที ได้ {a5} วินาที')"
      ],
      "metadata": {
        "colab": {
          "base_uri": "https://localhost:8080/"
        },
        "id": "8HM1V0Rs98d-",
        "outputId": "b43bc6d0-7b71-4dcb-8c26-dcd17d7d7241"
      },
      "execution_count": 49,
      "outputs": [
        {
          "output_type": "stream",
          "name": "stdout",
          "text": [
            "03:10:15 แปลงเป็นวินาที ได้ 11415 วินาที\n"
          ]
        }
      ]
    },
    {
      "cell_type": "code",
      "source": [
        "\n"
      ],
      "metadata": {
        "id": "VqKYF-oY9-X3"
      },
      "execution_count": null,
      "outputs": []
    }
  ]
}
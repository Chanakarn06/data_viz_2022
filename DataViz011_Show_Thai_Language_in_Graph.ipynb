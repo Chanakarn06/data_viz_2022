{
  "nbformat": 4,
  "nbformat_minor": 0,
  "metadata": {
    "colab": {
      "name": "DataViz011 Show Thai Language in Graph.ipynb",
      "provenance": [],
      "authorship_tag": "ABX9TyPSqn7AGNlmgbOcGWhJqRCu",
      "include_colab_link": true
    },
    "kernelspec": {
      "name": "python3",
      "display_name": "Python 3"
    },
    "language_info": {
      "name": "python"
    }
  },
  "cells": [
    {
      "cell_type": "markdown",
      "metadata": {
        "id": "view-in-github",
        "colab_type": "text"
      },
      "source": [
        "<a href=\"https://colab.research.google.com/github/Chanakarn06/data_viz_2022/blob/main/DataViz011_Show_Thai_Language_in_Graph.ipynb\" target=\"_parent\"><img src=\"https://colab.research.google.com/assets/colab-badge.svg\" alt=\"Open In Colab\"/></a>"
      ]
    },
    {
      "cell_type": "code",
      "execution_count": 1,
      "metadata": {
        "id": "aVQwbMH1q11_"
      },
      "outputs": [],
      "source": [
        "!wget -q https://github.com/Phonbopit/sarabun-webfont/raw/master/fonts/thsarabunnew-webfont.ttf"
      ]
    },
    {
      "cell_type": "code",
      "source": [
        "!ls"
      ],
      "metadata": {
        "colab": {
          "base_uri": "https://localhost:8080/"
        },
        "id": "QFbwg9paruiY",
        "outputId": "174a755d-7e31-4224-ff53-4bae43586426"
      },
      "execution_count": 2,
      "outputs": [
        {
          "output_type": "stream",
          "name": "stdout",
          "text": [
            "sample_data  thsarabunnew-webfont.ttf\n"
          ]
        }
      ]
    },
    {
      "cell_type": "code",
      "source": [
        "import matplotlib as mpl #matplotlib อยากเซ็ทพารามิเตอร์\n",
        "mpl.font_manager.fontManager.addfont('thsarabunnew-webfont.ttf') #import font\n",
        "mpl.rc('font', family='TH Sarabun New') "
      ],
      "metadata": {
        "id": "bpmp33sPr_Hf"
      },
      "execution_count": 5,
      "outputs": []
    },
    {
      "cell_type": "code",
      "source": [
        "import matplotlib.pyplot as plt\n",
        "plt.text(0.1, 0.8,'สระ ')\n",
        "plt.text(0.1, 0.6,'วรรณยุกต์');"
      ],
      "metadata": {
        "colab": {
          "base_uri": "https://localhost:8080/",
          "height": 268
        },
        "id": "ZXQqHW7FsULe",
        "outputId": "cd7a5477-d972-4d11-8c41-92fd9a8fb676"
      },
      "execution_count": 7,
      "outputs": [
        {
          "output_type": "display_data",
          "data": {
            "image/png": "[encoded data removed]",
            "text/plain": [
              "<Figure size 432x288 with 1 Axes>"
            ]
          },
          "metadata": {
            "needs_background": "light"
          }
        }
      ]
    }
  ]
}
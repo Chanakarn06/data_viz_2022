{
  "nbformat": 4,
  "nbformat_minor": 0,
  "metadata": {
    "colab": {
      "name": "Intro0.ipynb",
      "provenance": [],
      "authorship_tag": "ABX9TyMbCJW3eVQj+mC7kE+Gi+hG",
      "include_colab_link": true
    },
    "kernelspec": {
      "name": "python3",
      "display_name": "Python 3"
    },
    "language_info": {
      "name": "python"
    }
  },
  "cells": [
    {
      "cell_type": "markdown",
      "metadata": {
        "id": "view-in-github",
        "colab_type": "text"
      },
      "source": [
        "<a href=\"https://colab.research.google.com/github/Chanakarn06/data_viz_2022/blob/main/Intro0.ipynb\" target=\"_parent\"><img src=\"https://colab.research.google.com/assets/colab-badge.svg\" alt=\"Open In Colab\"/></a>"
      ]
    },
    {
      "cell_type": "markdown",
      "source": [
        " # Introduction to Basic Programming for Data Science and Data Visualization"
      ],
      "metadata": {
        "id": "hHfHwY7c-RLj"
      }
    },
    {
      "cell_type": "code",
      "execution_count": 1,
      "metadata": {
        "colab": {
          "base_uri": "https://localhost:8080/"
        },
        "id": "0yglpaoy-Juw",
        "outputId": "eccd7da1-d689-4d4d-cf0a-6305efe3f271"
      },
      "outputs": [
        {
          "output_type": "execute_result",
          "data": {
            "text/plain": [
              "3"
            ]
          },
          "metadata": {},
          "execution_count": 1
        }
      ],
      "source": [
        "a = 1\n",
        "b = 2\n",
        "a + b"
      ]
    },
    {
      "cell_type": "markdown",
      "source": [
        "1+2  "
      ],
      "metadata": {
        "id": "YV8a1xGY-wHY"
      }
    },
    {
      "cell_type": "code",
      "source": [
        "print('ชนกานต์ พูลผล ID 6230210467')"
      ],
      "metadata": {
        "colab": {
          "base_uri": "https://localhost:8080/"
        },
        "id": "g2WSKzHL-xat",
        "outputId": "5f084ece-5729-417d-99b4-ecbedd487bab"
      },
      "execution_count": 3,
      "outputs": [
        {
          "output_type": "stream",
          "name": "stdout",
          "text": [
            "ชนกานต์ พูลผล ID 6230210467\n"
          ]
        }
      ]
    },
    {
      "cell_type": "code",
      "source": [
        "aaaa = 2\n",
        "bbb = 3"
      ],
      "metadata": {
        "id": "bbMidIDd_k0u"
      },
      "execution_count": 4,
      "outputs": []
    },
    {
      "cell_type": "code",
      "source": [
        "1"
      ],
      "metadata": {
        "colab": {
          "base_uri": "https://localhost:8080/"
        },
        "id": "g217BbavGPwd",
        "outputId": "4c13c31e-90ad-44a7-bb4d-f3ff11eb4477"
      },
      "execution_count": 5,
      "outputs": [
        {
          "output_type": "execute_result",
          "data": {
            "text/plain": [
              "1"
            ]
          },
          "metadata": {},
          "execution_count": 5
        }
      ]
    }
  ]
}